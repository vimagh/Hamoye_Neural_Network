{
 "cells": [
  {
   "cell_type": "code",
   "execution_count": 1,
   "id": "925adda3",
   "metadata": {
    "_cell_guid": "b1076dfc-b9ad-4769-8c92-a6c4dae69d19",
    "_uuid": "8f2839f25d086af736a60e9eeb907d3b93b6e0e5",
    "execution": {
     "iopub.execute_input": "2023-07-15T12:55:42.770989Z",
     "iopub.status.busy": "2023-07-15T12:55:42.770550Z",
     "iopub.status.idle": "2023-07-15T12:55:42.800911Z",
     "shell.execute_reply": "2023-07-15T12:55:42.799574Z"
    },
    "papermill": {
     "duration": 0.044307,
     "end_time": "2023-07-15T12:55:42.804110",
     "exception": false,
     "start_time": "2023-07-15T12:55:42.759803",
     "status": "completed"
    },
    "tags": []
   },
   "outputs": [
    {
     "name": "stdout",
     "output_type": "stream",
     "text": [
      "/kaggle/input/planet-understanding-the-amazon-from-space/Kaggle-planet-train-tif.torrent\n",
      "/kaggle/input/planet-understanding-the-amazon-from-space/Kaggle-planet-test-tif.torrent\n",
      "/kaggle/input/planet-understanding-the-amazon-from-space/test_v2_file_mapping.csv/test_v2_file_mapping.csv\n",
      "/kaggle/input/planet-understanding-the-amazon-from-space/train_v2.csv/train_v2.csv\n",
      "/kaggle/input/planet-understanding-the-amazon-from-space/sample_submission_v2.csv/sample_submission_v2.csv\n"
     ]
    }
   ],
   "source": [
    "# This Python 3 environment comes with many helpful analytics libraries installed\n",
    "# It is defined by the kaggle/python Docker image: https://github.com/kaggle/docker-python\n",
    "# For example, here's several helpful packages to load\n",
    "\n",
    "import numpy as np # linear algebra\n",
    "import pandas as pd # data processing, CSV file I/O (e.g. pd.read_csv)\n",
    "\n",
    "# Input data files are available in the read-only \"../input/\" directory\n",
    "# For example, running this (by clicking run or pressing Shift+Enter) will list all files under the input directory\n",
    "\n",
    "import os\n",
    "for dirname, _, filenames in os.walk('/kaggle/input/planet-understanding-the-amazon-from-space'):\n",
    "    for filename in filenames:\n",
    "        print(os.path.join(dirname, filename))\n",
    "\n",
    "# You can write up to 20GB to the current directory (/kaggle/working/) that gets preserved as output when you create a version using \"Save & Run All\" \n",
    "# You can also write temporary files to /kaggle/temp/, but they won't be saved outside of the current session"
   ]
  },
  {
   "cell_type": "code",
   "execution_count": 2,
   "id": "6e0d51a0",
   "metadata": {
    "execution": {
     "iopub.execute_input": "2023-07-15T12:55:42.823090Z",
     "iopub.status.busy": "2023-07-15T12:55:42.822209Z",
     "iopub.status.idle": "2023-07-15T12:55:53.985481Z",
     "shell.execute_reply": "2023-07-15T12:55:53.984127Z"
    },
    "papermill": {
     "duration": 11.176543,
     "end_time": "2023-07-15T12:55:53.989145",
     "exception": false,
     "start_time": "2023-07-15T12:55:42.812602",
     "status": "completed"
    },
    "tags": []
   },
   "outputs": [
    {
     "name": "stderr",
     "output_type": "stream",
     "text": [
      "/opt/conda/lib/python3.10/site-packages/scipy/__init__.py:146: UserWarning: A NumPy version >=1.16.5 and <1.23.0 is required for this version of SciPy (detected version 1.23.5\n",
      "  warnings.warn(f\"A NumPy version >={np_minversion} and <{np_maxversion}\"\n",
      "/opt/conda/lib/python3.10/site-packages/tensorflow_io/python/ops/__init__.py:98: UserWarning: unable to load libtensorflow_io_plugins.so: unable to open file: libtensorflow_io_plugins.so, from paths: ['/opt/conda/lib/python3.10/site-packages/tensorflow_io/python/ops/libtensorflow_io_plugins.so']\n",
      "caused by: ['/opt/conda/lib/python3.10/site-packages/tensorflow_io/python/ops/libtensorflow_io_plugins.so: undefined symbol: _ZN3tsl6StatusC1EN10tensorflow5error4CodeESt17basic_string_viewIcSt11char_traitsIcEENS_14SourceLocationE']\n",
      "  warnings.warn(f\"unable to load libtensorflow_io_plugins.so: {e}\")\n",
      "/opt/conda/lib/python3.10/site-packages/tensorflow_io/python/ops/__init__.py:104: UserWarning: file system plugins are not loaded: unable to open file: libtensorflow_io.so, from paths: ['/opt/conda/lib/python3.10/site-packages/tensorflow_io/python/ops/libtensorflow_io.so']\n",
      "caused by: ['/opt/conda/lib/python3.10/site-packages/tensorflow_io/python/ops/libtensorflow_io.so: undefined symbol: _ZTVN10tensorflow13GcsFileSystemE']\n",
      "  warnings.warn(f\"file system plugins are not loaded: {e}\")\n"
     ]
    }
   ],
   "source": [
    "import keras as kr\n",
    "from keras.models import Sequential\n",
    "from keras.layers import Flatten, Dropout, Dense\n",
    "from keras.layers import Conv2D, MaxPooling2D\n",
    "import matplotlib.pyplot as plt\n",
    "import cv2\n",
    "from tqdm import tqdm\n",
    "from sklearn.metrics import fbeta_score\n",
    "from os import listdir"
   ]
  },
  {
   "cell_type": "code",
   "execution_count": 3,
   "id": "9f0a4d9d",
   "metadata": {
    "execution": {
     "iopub.execute_input": "2023-07-15T12:55:54.010716Z",
     "iopub.status.busy": "2023-07-15T12:55:54.009187Z",
     "iopub.status.idle": "2023-07-15T12:55:54.102502Z",
     "shell.execute_reply": "2023-07-15T12:55:54.101594Z"
    },
    "papermill": {
     "duration": 0.106928,
     "end_time": "2023-07-15T12:55:54.104708",
     "exception": false,
     "start_time": "2023-07-15T12:55:53.997780",
     "status": "completed"
    },
    "tags": []
   },
   "outputs": [
    {
     "data": {
      "text/html": [
       "<div>\n",
       "<style scoped>\n",
       "    .dataframe tbody tr th:only-of-type {\n",
       "        vertical-align: middle;\n",
       "    }\n",
       "\n",
       "    .dataframe tbody tr th {\n",
       "        vertical-align: top;\n",
       "    }\n",
       "\n",
       "    .dataframe thead th {\n",
       "        text-align: right;\n",
       "    }\n",
       "</style>\n",
       "<table border=\"1\" class=\"dataframe\">\n",
       "  <thead>\n",
       "    <tr style=\"text-align: right;\">\n",
       "      <th></th>\n",
       "      <th>image_name</th>\n",
       "      <th>tags</th>\n",
       "    </tr>\n",
       "  </thead>\n",
       "  <tbody>\n",
       "    <tr>\n",
       "      <th>0</th>\n",
       "      <td>train_0</td>\n",
       "      <td>haze primary</td>\n",
       "    </tr>\n",
       "    <tr>\n",
       "      <th>1</th>\n",
       "      <td>train_1</td>\n",
       "      <td>agriculture clear primary water</td>\n",
       "    </tr>\n",
       "    <tr>\n",
       "      <th>2</th>\n",
       "      <td>train_2</td>\n",
       "      <td>clear primary</td>\n",
       "    </tr>\n",
       "    <tr>\n",
       "      <th>3</th>\n",
       "      <td>train_3</td>\n",
       "      <td>clear primary</td>\n",
       "    </tr>\n",
       "    <tr>\n",
       "      <th>4</th>\n",
       "      <td>train_4</td>\n",
       "      <td>agriculture clear habitation primary road</td>\n",
       "    </tr>\n",
       "  </tbody>\n",
       "</table>\n",
       "</div>"
      ],
      "text/plain": [
       "  image_name                                       tags\n",
       "0    train_0                               haze primary\n",
       "1    train_1            agriculture clear primary water\n",
       "2    train_2                              clear primary\n",
       "3    train_3                              clear primary\n",
       "4    train_4  agriculture clear habitation primary road"
      ]
     },
     "execution_count": 3,
     "metadata": {},
     "output_type": "execute_result"
    }
   ],
   "source": [
    "# Load data\n",
    "train = pd.read_csv('/kaggle/input/train-data/train_v2.csv')\n",
    "train.head()"
   ]
  },
  {
   "cell_type": "code",
   "execution_count": 4,
   "id": "3ab6882a",
   "metadata": {
    "execution": {
     "iopub.execute_input": "2023-07-15T12:55:54.124046Z",
     "iopub.status.busy": "2023-07-15T12:55:54.123026Z",
     "iopub.status.idle": "2023-07-15T12:55:54.179936Z",
     "shell.execute_reply": "2023-07-15T12:55:54.178741Z"
    },
    "papermill": {
     "duration": 0.069148,
     "end_time": "2023-07-15T12:55:54.182561",
     "exception": false,
     "start_time": "2023-07-15T12:55:54.113413",
     "status": "completed"
    },
    "tags": []
   },
   "outputs": [
    {
     "data": {
      "text/plain": [
       "['blooming',\n",
       " 'slash_burn',\n",
       " 'clear',\n",
       " 'road',\n",
       " 'artisinal_mine',\n",
       " 'agriculture',\n",
       " 'primary',\n",
       " 'water',\n",
       " 'haze',\n",
       " 'bare_ground',\n",
       " 'cultivation',\n",
       " 'cloudy',\n",
       " 'partly_cloudy',\n",
       " 'conventional_mine',\n",
       " 'blow_down',\n",
       " 'habitation',\n",
       " 'selective_logging']"
      ]
     },
     "execution_count": 4,
     "metadata": {},
     "output_type": "execute_result"
    }
   ],
   "source": [
    "# Getting unique tags\n",
    "train_val = train['tags'].values\n",
    "split = [x.split(' ') for x in train_val]\n",
    "lst = []\n",
    "for sublst in split:\n",
    "    lst += sublst\n",
    "labels = list(set(lst))\n",
    "labels"
   ]
  },
  {
   "cell_type": "code",
   "execution_count": 5,
   "id": "5ce2e016",
   "metadata": {
    "execution": {
     "iopub.execute_input": "2023-07-15T12:55:54.203225Z",
     "iopub.status.busy": "2023-07-15T12:55:54.202828Z",
     "iopub.status.idle": "2023-07-15T12:55:54.211448Z",
     "shell.execute_reply": "2023-07-15T12:55:54.210142Z"
    },
    "papermill": {
     "duration": 0.023084,
     "end_time": "2023-07-15T12:55:54.214417",
     "exception": false,
     "start_time": "2023-07-15T12:55:54.191333",
     "status": "completed"
    },
    "tags": []
   },
   "outputs": [
    {
     "data": {
      "text/plain": [
       "{'blooming': 0,\n",
       " 'slash_burn': 1,\n",
       " 'clear': 2,\n",
       " 'road': 3,\n",
       " 'artisinal_mine': 4,\n",
       " 'agriculture': 5,\n",
       " 'primary': 6,\n",
       " 'water': 7,\n",
       " 'haze': 8,\n",
       " 'bare_ground': 9,\n",
       " 'cultivation': 10,\n",
       " 'cloudy': 11,\n",
       " 'partly_cloudy': 12,\n",
       " 'conventional_mine': 13,\n",
       " 'blow_down': 14,\n",
       " 'habitation': 15,\n",
       " 'selective_logging': 16}"
      ]
     },
     "execution_count": 5,
     "metadata": {},
     "output_type": "execute_result"
    }
   ],
   "source": [
    "# Mapping tags\n",
    "dic = {}\n",
    "for x, y in enumerate(labels):\n",
    "    dic[y] = x\n",
    "dic"
   ]
  },
  {
   "cell_type": "code",
   "execution_count": 6,
   "id": "ec53d51b",
   "metadata": {
    "execution": {
     "iopub.execute_input": "2023-07-15T12:55:54.234268Z",
     "iopub.status.busy": "2023-07-15T12:55:54.233817Z",
     "iopub.status.idle": "2023-07-15T13:02:49.926048Z",
     "shell.execute_reply": "2023-07-15T13:02:49.923914Z"
    },
    "papermill": {
     "duration": 415.705867,
     "end_time": "2023-07-15T13:02:49.929014",
     "exception": false,
     "start_time": "2023-07-15T12:55:54.223147",
     "status": "completed"
    },
    "tags": []
   },
   "outputs": [
    {
     "name": "stderr",
     "output_type": "stream",
     "text": [
      "100%|██████████| 40479/40479 [06:52<00:00, 98.03it/s] \n"
     ]
    },
    {
     "name": "stdout",
     "output_type": "stream",
     "text": [
      "(40479, 32, 32, 3)\n",
      "(40479, 17)\n"
     ]
    }
   ],
   "source": [
    "# Image encoding\n",
    "x_train = []\n",
    "y_train = []\n",
    "\n",
    "for x, tags in tqdm(train.values, miniters=1500):\n",
    "    img = cv2.imread('/kaggle/input/trainjpg/train-jpg/{}.jpg'.format(x))\n",
    "    targets = np.zeros(17)\n",
    "    for tag in tags.split(' '):\n",
    "        targets[dic[tag]] = 1\n",
    "    x_train.append(cv2.resize(img, (32,32)))\n",
    "    y_train.append(targets)\n",
    "\n",
    "y_train = np.array(y_train, np.uint8)\n",
    "x_train = np.array(x_train, np.float16) / 255\n",
    "\n",
    "print(x_train.shape)\n",
    "print(y_train.shape)"
   ]
  },
  {
   "cell_type": "code",
   "execution_count": 7,
   "id": "6f005b3f",
   "metadata": {
    "execution": {
     "iopub.execute_input": "2023-07-15T13:02:50.694011Z",
     "iopub.status.busy": "2023-07-15T13:02:50.693589Z",
     "iopub.status.idle": "2023-07-15T13:02:50.702765Z",
     "shell.execute_reply": "2023-07-15T13:02:50.701361Z"
    },
    "papermill": {
     "duration": 0.346994,
     "end_time": "2023-07-15T13:02:50.705158",
     "exception": false,
     "start_time": "2023-07-15T13:02:50.358164",
     "status": "completed"
    },
    "tags": []
   },
   "outputs": [],
   "source": [
    "# Splitting data\n",
    "split = 33000\n",
    "x_train, x_test, y_train, y_test = x_train[:split], x_train[split:], y_train[:split], y_train[split:]"
   ]
  },
  {
   "cell_type": "code",
   "execution_count": 8,
   "id": "3759aaba",
   "metadata": {
    "execution": {
     "iopub.execute_input": "2023-07-15T13:02:51.370685Z",
     "iopub.status.busy": "2023-07-15T13:02:51.370297Z",
     "iopub.status.idle": "2023-07-15T13:02:51.640582Z",
     "shell.execute_reply": "2023-07-15T13:02:51.639594Z"
    },
    "papermill": {
     "duration": 0.606894,
     "end_time": "2023-07-15T13:02:51.643107",
     "exception": false,
     "start_time": "2023-07-15T13:02:51.036213",
     "status": "completed"
    },
    "tags": []
   },
   "outputs": [],
   "source": [
    "# 1st Model training\n",
    "model = Sequential()\n",
    "model.add(Conv2D(32, kernel_size=(3,3),\n",
    "                activation='relu',\n",
    "                input_shape=(32,32,3)))\n",
    "model.add(Conv2D(64, (3,3), activation='relu'))\n",
    "model.add(MaxPooling2D(pool_size=(2,2)))\n",
    "\n",
    "model.add(Dropout(0.25))\n",
    "model.add(Flatten())\n",
    "model.add(Dense(128, activation='relu'))\n",
    "model.add(Dropout(0.5))\n",
    "model.add(Dense(17, activation='sigmoid'))\n",
    "\n",
    "model.compile(loss='binary_crossentropy', \n",
    "             optimizer='adam',\n",
    "             metrics=['accuracy'])"
   ]
  },
  {
   "cell_type": "code",
   "execution_count": 9,
   "id": "64a8cc51",
   "metadata": {
    "execution": {
     "iopub.execute_input": "2023-07-15T13:02:52.328895Z",
     "iopub.status.busy": "2023-07-15T13:02:52.328155Z",
     "iopub.status.idle": "2023-07-15T13:10:16.553090Z",
     "shell.execute_reply": "2023-07-15T13:10:16.551756Z"
    },
    "papermill": {
     "duration": 444.578591,
     "end_time": "2023-07-15T13:10:16.556062",
     "exception": false,
     "start_time": "2023-07-15T13:02:51.977471",
     "status": "completed"
    },
    "tags": []
   },
   "outputs": [
    {
     "name": "stdout",
     "output_type": "stream",
     "text": [
      "Epoch 1/6\n",
      "258/258 [==============================] - 75s 284ms/step - loss: 0.2518 - accuracy: 0.1786 - val_loss: 0.2046 - val_accuracy: 0.1576\n",
      "Epoch 2/6\n",
      "258/258 [==============================] - 75s 290ms/step - loss: 0.2098 - accuracy: 0.1855 - val_loss: 0.1932 - val_accuracy: 0.2019\n",
      "Epoch 3/6\n",
      "258/258 [==============================] - 72s 280ms/step - loss: 0.1963 - accuracy: 0.1959 - val_loss: 0.1807 - val_accuracy: 0.2035\n",
      "Epoch 4/6\n",
      "258/258 [==============================] - 71s 276ms/step - loss: 0.1876 - accuracy: 0.2004 - val_loss: 0.1734 - val_accuracy: 0.1994\n",
      "Epoch 5/6\n",
      "258/258 [==============================] - 73s 282ms/step - loss: 0.1806 - accuracy: 0.2072 - val_loss: 0.1698 - val_accuracy: 0.2095\n",
      "Epoch 6/6\n",
      "258/258 [==============================] - 71s 277ms/step - loss: 0.1768 - accuracy: 0.2155 - val_loss: 0.1663 - val_accuracy: 0.2002\n"
     ]
    }
   ],
   "source": [
    "history = model.fit(x_train, y_train,\n",
    "             batch_size=128,\n",
    "             epochs=6,\n",
    "             verbose=1,\n",
    "             validation_data=(x_test, y_test))"
   ]
  },
  {
   "cell_type": "code",
   "execution_count": 10,
   "id": "2d063505",
   "metadata": {
    "execution": {
     "iopub.execute_input": "2023-07-15T13:10:17.598954Z",
     "iopub.status.busy": "2023-07-15T13:10:17.598344Z",
     "iopub.status.idle": "2023-07-15T13:10:21.387188Z",
     "shell.execute_reply": "2023-07-15T13:10:21.386237Z"
    },
    "papermill": {
     "duration": 4.270418,
     "end_time": "2023-07-15T13:10:21.389910",
     "exception": false,
     "start_time": "2023-07-15T13:10:17.119492",
     "status": "completed"
    },
    "tags": []
   },
   "outputs": [
    {
     "name": "stdout",
     "output_type": "stream",
     "text": [
      "59/59 [==============================] - 3s 57ms/step\n"
     ]
    }
   ],
   "source": [
    "# validate model\n",
    "valid = model.predict(x_test, batch_size=128)"
   ]
  },
  {
   "cell_type": "code",
   "execution_count": 11,
   "id": "a989f839",
   "metadata": {
    "execution": {
     "iopub.execute_input": "2023-07-15T13:10:22.391138Z",
     "iopub.status.busy": "2023-07-15T13:10:22.390625Z",
     "iopub.status.idle": "2023-07-15T13:10:22.399640Z",
     "shell.execute_reply": "2023-07-15T13:10:22.398636Z"
    },
    "papermill": {
     "duration": 0.510236,
     "end_time": "2023-07-15T13:10:22.402359",
     "exception": false,
     "start_time": "2023-07-15T13:10:21.892123",
     "status": "completed"
    },
    "tags": []
   },
   "outputs": [
    {
     "data": {
      "text/plain": [
       "array([[7.7471016e-03, 8.3121244e-04, 9.7546560e-01, ..., 7.6094002e-04,\n",
       "        3.8655445e-03, 3.3229140e-03],\n",
       "       [9.1115581e-03, 1.2320869e-03, 9.7224897e-01, ..., 1.1133776e-03,\n",
       "        6.9978251e-03, 4.6302588e-03],\n",
       "       [1.8260586e-04, 6.5865665e-04, 9.8112530e-01, ..., 6.2369370e-05,\n",
       "        4.4537559e-01, 3.7460378e-04],\n",
       "       ...,\n",
       "       [5.2309118e-04, 8.5019576e-04, 9.9083495e-01, ..., 1.3923508e-04,\n",
       "        4.0673622e-01, 1.7764254e-03],\n",
       "       [2.5126894e-04, 6.4007752e-04, 8.8543248e-01, ..., 9.9862780e-05,\n",
       "        2.4649364e-01, 3.3053977e-04],\n",
       "       [8.0522811e-03, 1.1276075e-02, 2.9186106e-01, ..., 7.9459436e-03,\n",
       "        8.8266648e-02, 1.7770972e-02]], dtype=float32)"
      ]
     },
     "execution_count": 11,
     "metadata": {},
     "output_type": "execute_result"
    }
   ],
   "source": [
    "valid"
   ]
  },
  {
   "cell_type": "code",
   "execution_count": 12,
   "id": "8f260a88",
   "metadata": {
    "execution": {
     "iopub.execute_input": "2023-07-15T13:10:23.451610Z",
     "iopub.status.busy": "2023-07-15T13:10:23.450582Z",
     "iopub.status.idle": "2023-07-15T13:10:23.873872Z",
     "shell.execute_reply": "2023-07-15T13:10:23.872564Z"
    },
    "papermill": {
     "duration": 0.983441,
     "end_time": "2023-07-15T13:10:23.876526",
     "exception": false,
     "start_time": "2023-07-15T13:10:22.893085",
     "status": "completed"
    },
    "tags": []
   },
   "outputs": [
    {
     "data": {
      "text/plain": [
       "Text(0.5, 1.0, 'Loss Curves - before tweaking')"
      ]
     },
     "execution_count": 12,
     "metadata": {},
     "output_type": "execute_result"
    },
    {
     "data": {
      "image/png": "[encoded data removed]",
      "text/plain": [
       "<Figure size 640x480 with 1 Axes>"
      ]
     },
     "metadata": {},
     "output_type": "display_data"
    }
   ],
   "source": [
    "# visuals of loss function\n",
    "plt.figure()\n",
    "plt.plot(history.history['loss'], 'blue')\n",
    "plt.plot(history.history['val_loss'], 'red')\n",
    "plt.legend(['Training loss', 'Validation Loss'])\n",
    "plt.xlabel('Epochs')\n",
    "plt.ylabel('Loss')\n",
    "plt.title('Loss Curves - before tweaking')"
   ]
  },
  {
   "cell_type": "code",
   "execution_count": 13,
   "id": "3fb3cf6e",
   "metadata": {
    "execution": {
     "iopub.execute_input": "2023-07-15T13:10:24.907756Z",
     "iopub.status.busy": "2023-07-15T13:10:24.907041Z",
     "iopub.status.idle": "2023-07-15T13:10:25.085993Z",
     "shell.execute_reply": "2023-07-15T13:10:25.084677Z"
    },
    "papermill": {
     "duration": 0.683561,
     "end_time": "2023-07-15T13:10:25.088989",
     "exception": false,
     "start_time": "2023-07-15T13:10:24.405428",
     "status": "completed"
    },
    "tags": []
   },
   "outputs": [],
   "source": [
    "# 2nd model with more layers\n",
    "model = Sequential()\n",
    "# Block 1\n",
    "model.add(Conv2D(32, (3,3), input_shape=(32,32,3), activation='relu',\n",
    "                padding='same', kernel_initializer='he_uniform'))\n",
    "model.add(Conv2D(32, (3,3), activation='relu',\n",
    "                padding='same', kernel_initializer='he_uniform'))\n",
    "model.add(MaxPooling2D((2,2)))\n",
    "\n",
    "#Block 2\n",
    "model.add(Conv2D(64, (3,3), activation='relu',\n",
    "                padding='same', kernel_initializer='he_uniform'))\n",
    "model.add(Conv2D(64, (3,3), activation='relu',\n",
    "                padding='same', kernel_initializer='he_uniform'))\n",
    "model.add(MaxPooling2D((2,2)))\n",
    "\n",
    "#Block 3\n",
    "model.add(Conv2D(128, (3,3), input_shape=(128,128,3), activation='relu',\n",
    "                padding='same', kernel_initializer='he_uniform'))\n",
    "model.add(Conv2D(128, (3,3), activation='relu',\n",
    "                padding='same', kernel_initializer='he_uniform'))\n",
    "model.add(MaxPooling2D((2,2)))\n",
    "\n",
    "model.add(Flatten())\n",
    "model.add(Dense(128, activation='relu', kernel_initializer='he_uniform'))\n",
    "model.add(Dense(17, activation='sigmoid'))\n",
    "\n",
    "model.compile(optimizer='adam', loss='binary_crossentropy', metrics=['accuracy'])"
   ]
  },
  {
   "cell_type": "code",
   "execution_count": 14,
   "id": "df180087",
   "metadata": {
    "execution": {
     "iopub.execute_input": "2023-07-15T13:10:26.074355Z",
     "iopub.status.busy": "2023-07-15T13:10:26.073553Z",
     "iopub.status.idle": "2023-07-15T13:23:50.698214Z",
     "shell.execute_reply": "2023-07-15T13:23:50.697008Z"
    },
    "papermill": {
     "duration": 805.121829,
     "end_time": "2023-07-15T13:23:50.701192",
     "exception": false,
     "start_time": "2023-07-15T13:10:25.579363",
     "status": "completed"
    },
    "tags": []
   },
   "outputs": [
    {
     "name": "stdout",
     "output_type": "stream",
     "text": [
      "Epoch 1/6\n",
      "258/258 [==============================] - 137s 524ms/step - loss: 0.2095 - accuracy: 0.1865 - val_loss: 0.1673 - val_accuracy: 0.2435\n",
      "Epoch 2/6\n",
      "258/258 [==============================] - 133s 516ms/step - loss: 0.1582 - accuracy: 0.2109 - val_loss: 0.1470 - val_accuracy: 0.1936\n",
      "Epoch 3/6\n",
      "258/258 [==============================] - 133s 517ms/step - loss: 0.1417 - accuracy: 0.2213 - val_loss: 0.1380 - val_accuracy: 0.1782\n",
      "Epoch 4/6\n",
      "258/258 [==============================] - 133s 516ms/step - loss: 0.1336 - accuracy: 0.2317 - val_loss: 0.1312 - val_accuracy: 0.2059\n",
      "Epoch 5/6\n",
      "258/258 [==============================] - 132s 513ms/step - loss: 0.1278 - accuracy: 0.2532 - val_loss: 0.1253 - val_accuracy: 0.2561\n",
      "Epoch 6/6\n",
      "258/258 [==============================] - 133s 518ms/step - loss: 0.1222 - accuracy: 0.2420 - val_loss: 0.1286 - val_accuracy: 0.2079\n"
     ]
    }
   ],
   "source": [
    "history = model.fit(x_train, y_train,\n",
    "                 batch_size=128,\n",
    "                 epochs=6,\n",
    "                 verbose=1,\n",
    "                 validation_data=(x_test, y_test))"
   ]
  },
  {
   "cell_type": "code",
   "execution_count": 15,
   "id": "776b196c",
   "metadata": {
    "execution": {
     "iopub.execute_input": "2023-07-15T13:23:52.025702Z",
     "iopub.status.busy": "2023-07-15T13:23:52.024865Z",
     "iopub.status.idle": "2023-07-15T13:23:59.126223Z",
     "shell.execute_reply": "2023-07-15T13:23:59.124804Z"
    },
    "papermill": {
     "duration": 7.802954,
     "end_time": "2023-07-15T13:23:59.129015",
     "exception": false,
     "start_time": "2023-07-15T13:23:51.326061",
     "status": "completed"
    },
    "tags": []
   },
   "outputs": [
    {
     "name": "stdout",
     "output_type": "stream",
     "text": [
      "59/59 [==============================] - 7s 114ms/step\n",
      "0.8858934971791359\n"
     ]
    }
   ],
   "source": [
    "valid = model.predict(x_test, batch_size=128)\n",
    "print(fbeta_score(y_test, np.array(valid) > 0.2, beta=2, average='samples'))"
   ]
  },
  {
   "cell_type": "code",
   "execution_count": 16,
   "id": "ee876672",
   "metadata": {
    "execution": {
     "iopub.execute_input": "2023-07-15T13:24:00.417055Z",
     "iopub.status.busy": "2023-07-15T13:24:00.416555Z",
     "iopub.status.idle": "2023-07-15T13:24:00.818204Z",
     "shell.execute_reply": "2023-07-15T13:24:00.816811Z"
    },
    "papermill": {
     "duration": 1.059036,
     "end_time": "2023-07-15T13:24:00.821786",
     "exception": false,
     "start_time": "2023-07-15T13:23:59.762750",
     "status": "completed"
    },
    "tags": []
   },
   "outputs": [
    {
     "data": {
      "text/plain": [
       "Text(0.5, 1.0, 'Loss Curves - after tweaking')"
      ]
     },
     "execution_count": 16,
     "metadata": {},
     "output_type": "execute_result"
    },
    {
     "data": {
      "image/png": "[encoded data removed]",
      "text/plain": [
       "<Figure size 640x480 with 1 Axes>"
      ]
     },
     "metadata": {},
     "output_type": "display_data"
    }
   ],
   "source": [
    "plt.figure()\n",
    "plt.plot(history.history['loss'], 'blue')\n",
    "plt.plot(history.history['val_loss'], 'red')\n",
    "plt.legend(['Training loss', 'Validation Loss'])\n",
    "plt.xlabel('Epochs')\n",
    "plt.ylabel('Loss')\n",
    "plt.title('Loss Curves - after tweaking')"
   ]
  },
  {
   "cell_type": "code",
   "execution_count": 17,
   "id": "bd777073",
   "metadata": {
    "execution": {
     "iopub.execute_input": "2023-07-15T13:24:02.101492Z",
     "iopub.status.busy": "2023-07-15T13:24:02.100697Z",
     "iopub.status.idle": "2023-07-15T13:27:31.335428Z",
     "shell.execute_reply": "2023-07-15T13:27:31.334114Z"
    },
    "papermill": {
     "duration": 209.876921,
     "end_time": "2023-07-15T13:27:31.338457",
     "exception": false,
     "start_time": "2023-07-15T13:24:01.461536",
     "status": "completed"
    },
    "tags": []
   },
   "outputs": [
    {
     "name": "stderr",
     "output_type": "stream",
     "text": [
      "100%|██████████| 40479/40479 [01:41<00:00, 399.87it/s]\n",
      "100%|██████████| 40479/40479 [01:42<00:00, 396.71it/s]\n"
     ]
    }
   ],
   "source": [
    "x_test = []\n",
    "x_test_add = []\n",
    "img_title = []\n",
    "img_title_add = []\n",
    "\n",
    "for x in tqdm(listdir('/kaggle/input/trainjpg/train-jpg'), miniters=1500):\n",
    "    img_name = x.split('.')[0]\n",
    "    img = cv2.imread('/kaggle/input/trainjpg/train-jpg/{}.jpg'.format(img_name))\n",
    "    x_test.append(cv2.resize(img, (32,32)))\n",
    "    img_title.append(img_name)\n",
    "    \n",
    "for x in tqdm(listdir('/kaggle/input/trainjpg/train-jpg'), miniters=1500):\n",
    "    img_name = x.split('.')[0]\n",
    "    img = cv2.imread('/kaggle/input/trainjpg/train-jpg/{}.jpg'.format(img_name))\n",
    "    x_test_add.append(cv2.resize(img, (32,32)))\n",
    "    img_title_add.append(img_name)\n",
    "    \n",
    "x_test = np.array(x_test, np.float16) / 255\n",
    "x_test_add = np.array(x_test_add, np.float16) / 255"
   ]
  },
  {
   "cell_type": "code",
   "execution_count": 18,
   "id": "18a05d0f",
   "metadata": {
    "execution": {
     "iopub.execute_input": "2023-07-15T13:27:32.696947Z",
     "iopub.status.busy": "2023-07-15T13:27:32.696539Z",
     "iopub.status.idle": "2023-07-15T13:28:56.852786Z",
     "shell.execute_reply": "2023-07-15T13:28:56.851486Z"
    },
    "papermill": {
     "duration": 84.872859,
     "end_time": "2023-07-15T13:28:56.855770",
     "exception": false,
     "start_time": "2023-07-15T13:27:31.982911",
     "status": "completed"
    },
    "tags": []
   },
   "outputs": [
    {
     "name": "stdout",
     "output_type": "stream",
     "text": [
      "317/317 [==============================] - 37s 116ms/step\n",
      "317/317 [==============================] - 37s 116ms/step\n"
     ]
    }
   ],
   "source": [
    "pred1 = model.predict(x_test, batch_size=128)\n",
    "pred2 = model.predict(x_test_add, batch_size=128)"
   ]
  },
  {
   "cell_type": "code",
   "execution_count": 19,
   "id": "05bf8e90",
   "metadata": {
    "execution": {
     "iopub.execute_input": "2023-07-15T13:28:58.323719Z",
     "iopub.status.busy": "2023-07-15T13:28:58.322362Z",
     "iopub.status.idle": "2023-07-15T13:28:59.757774Z",
     "shell.execute_reply": "2023-07-15T13:28:59.756634Z"
    },
    "papermill": {
     "duration": 2.207473,
     "end_time": "2023-07-15T13:28:59.760564",
     "exception": false,
     "start_time": "2023-07-15T13:28:57.553091",
     "status": "completed"
    },
    "tags": []
   },
   "outputs": [],
   "source": [
    "image1 = []\n",
    "tags1 = []\n",
    "for i, img in enumerate(img_title):\n",
    "    image1.append(img)\n",
    "    tags1.append(' '.join(np.array(labels)[pred1[i] > 0.2]))\n",
    "df1 = pd.DataFrame()\n",
    "df1['image_name'] = image1\n",
    "df1['tags'] = tags1\n",
    "\n",
    "image2 = []\n",
    "tags2 = []\n",
    "for i, img in enumerate(img_title_add):\n",
    "    image2.append(img)\n",
    "    tags2.append(' '.join(np.array(labels)[pred2[i] > 0.2]))\n",
    "df2 = pd.DataFrame()\n",
    "df2['image_name'] = image2\n",
    "df2['tags'] = tags2"
   ]
  },
  {
   "cell_type": "code",
   "execution_count": 20,
   "id": "6107052f",
   "metadata": {
    "execution": {
     "iopub.execute_input": "2023-07-15T13:29:01.202026Z",
     "iopub.status.busy": "2023-07-15T13:29:01.201149Z",
     "iopub.status.idle": "2023-07-15T13:29:01.217894Z",
     "shell.execute_reply": "2023-07-15T13:29:01.216827Z"
    },
    "papermill": {
     "duration": 0.741347,
     "end_time": "2023-07-15T13:29:01.220409",
     "exception": false,
     "start_time": "2023-07-15T13:29:00.479062",
     "status": "completed"
    },
    "tags": []
   },
   "outputs": [
    {
     "data": {
      "text/html": [
       "<div>\n",
       "<style scoped>\n",
       "    .dataframe tbody tr th:only-of-type {\n",
       "        vertical-align: middle;\n",
       "    }\n",
       "\n",
       "    .dataframe tbody tr th {\n",
       "        vertical-align: top;\n",
       "    }\n",
       "\n",
       "    .dataframe thead th {\n",
       "        text-align: right;\n",
       "    }\n",
       "</style>\n",
       "<table border=\"1\" class=\"dataframe\">\n",
       "  <thead>\n",
       "    <tr style=\"text-align: right;\">\n",
       "      <th></th>\n",
       "      <th>image_name</th>\n",
       "      <th>tags</th>\n",
       "    </tr>\n",
       "  </thead>\n",
       "  <tbody>\n",
       "    <tr>\n",
       "      <th>0</th>\n",
       "      <td>train_30370</td>\n",
       "      <td>clear primary</td>\n",
       "    </tr>\n",
       "    <tr>\n",
       "      <th>1</th>\n",
       "      <td>train_11814</td>\n",
       "      <td>clear primary</td>\n",
       "    </tr>\n",
       "    <tr>\n",
       "      <th>2</th>\n",
       "      <td>train_14358</td>\n",
       "      <td>road agriculture primary water partly_cloudy</td>\n",
       "    </tr>\n",
       "    <tr>\n",
       "      <th>3</th>\n",
       "      <td>train_18588</td>\n",
       "      <td>clear primary</td>\n",
       "    </tr>\n",
       "    <tr>\n",
       "      <th>4</th>\n",
       "      <td>train_36435</td>\n",
       "      <td>clear primary water</td>\n",
       "    </tr>\n",
       "    <tr>\n",
       "      <th>...</th>\n",
       "      <td>...</td>\n",
       "      <td>...</td>\n",
       "    </tr>\n",
       "    <tr>\n",
       "      <th>40474</th>\n",
       "      <td>train_14628</td>\n",
       "      <td>clear primary</td>\n",
       "    </tr>\n",
       "    <tr>\n",
       "      <th>40475</th>\n",
       "      <td>train_27150</td>\n",
       "      <td>primary haze</td>\n",
       "    </tr>\n",
       "    <tr>\n",
       "      <th>40476</th>\n",
       "      <td>train_25524</td>\n",
       "      <td>clear agriculture primary cultivation</td>\n",
       "    </tr>\n",
       "    <tr>\n",
       "      <th>40477</th>\n",
       "      <td>train_35401</td>\n",
       "      <td>clear agriculture primary water</td>\n",
       "    </tr>\n",
       "    <tr>\n",
       "      <th>40478</th>\n",
       "      <td>train_8884</td>\n",
       "      <td>primary cloudy</td>\n",
       "    </tr>\n",
       "  </tbody>\n",
       "</table>\n",
       "<p>80958 rows × 2 columns</p>\n",
       "</div>"
      ],
      "text/plain": [
       "        image_name                                          tags\n",
       "0      train_30370                                 clear primary\n",
       "1      train_11814                                 clear primary\n",
       "2      train_14358  road agriculture primary water partly_cloudy\n",
       "3      train_18588                                 clear primary\n",
       "4      train_36435                           clear primary water\n",
       "...            ...                                           ...\n",
       "40474  train_14628                                 clear primary\n",
       "40475  train_27150                                  primary haze\n",
       "40476  train_25524         clear agriculture primary cultivation\n",
       "40477  train_35401               clear agriculture primary water\n",
       "40478   train_8884                                primary cloudy\n",
       "\n",
       "[80958 rows x 2 columns]"
      ]
     },
     "execution_count": 20,
     "metadata": {},
     "output_type": "execute_result"
    }
   ],
   "source": [
    "full_df = pd.concat([df1, df2])\n",
    "full_df"
   ]
  },
  {
   "cell_type": "code",
   "execution_count": 21,
   "id": "04ece5a7",
   "metadata": {
    "execution": {
     "iopub.execute_input": "2023-07-15T13:29:02.733269Z",
     "iopub.status.busy": "2023-07-15T13:29:02.732098Z",
     "iopub.status.idle": "2023-07-15T13:29:03.090087Z",
     "shell.execute_reply": "2023-07-15T13:29:03.088746Z"
    },
    "papermill": {
     "duration": 1.073008,
     "end_time": "2023-07-15T13:29:03.093069",
     "exception": false,
     "start_time": "2023-07-15T13:29:02.020061",
     "status": "completed"
    },
    "tags": []
   },
   "outputs": [],
   "source": [
    "full_df.to_csv('submission.csv', index=False)"
   ]
  },
  {
   "cell_type": "code",
   "execution_count": 22,
   "id": "7e856a0a",
   "metadata": {
    "execution": {
     "iopub.execute_input": "2023-07-15T13:29:04.472478Z",
     "iopub.status.busy": "2023-07-15T13:29:04.471789Z",
     "iopub.status.idle": "2023-07-15T13:29:04.543801Z",
     "shell.execute_reply": "2023-07-15T13:29:04.542918Z"
    },
    "papermill": {
     "duration": 0.765631,
     "end_time": "2023-07-15T13:29:04.546041",
     "exception": false,
     "start_time": "2023-07-15T13:29:03.780410",
     "status": "completed"
    },
    "tags": []
   },
   "outputs": [
    {
     "data": {
      "text/html": [
       "<div>\n",
       "<style scoped>\n",
       "    .dataframe tbody tr th:only-of-type {\n",
       "        vertical-align: middle;\n",
       "    }\n",
       "\n",
       "    .dataframe tbody tr th {\n",
       "        vertical-align: top;\n",
       "    }\n",
       "\n",
       "    .dataframe thead th {\n",
       "        text-align: right;\n",
       "    }\n",
       "</style>\n",
       "<table border=\"1\" class=\"dataframe\">\n",
       "  <thead>\n",
       "    <tr style=\"text-align: right;\">\n",
       "      <th></th>\n",
       "      <th>image_name</th>\n",
       "      <th>tags</th>\n",
       "    </tr>\n",
       "  </thead>\n",
       "  <tbody>\n",
       "    <tr>\n",
       "      <th>0</th>\n",
       "      <td>train_30370</td>\n",
       "      <td>clear primary</td>\n",
       "    </tr>\n",
       "    <tr>\n",
       "      <th>1</th>\n",
       "      <td>train_11814</td>\n",
       "      <td>clear primary</td>\n",
       "    </tr>\n",
       "    <tr>\n",
       "      <th>2</th>\n",
       "      <td>train_14358</td>\n",
       "      <td>road agriculture primary water partly_cloudy</td>\n",
       "    </tr>\n",
       "    <tr>\n",
       "      <th>3</th>\n",
       "      <td>train_18588</td>\n",
       "      <td>clear primary</td>\n",
       "    </tr>\n",
       "    <tr>\n",
       "      <th>4</th>\n",
       "      <td>train_36435</td>\n",
       "      <td>clear primary water</td>\n",
       "    </tr>\n",
       "    <tr>\n",
       "      <th>...</th>\n",
       "      <td>...</td>\n",
       "      <td>...</td>\n",
       "    </tr>\n",
       "    <tr>\n",
       "      <th>80953</th>\n",
       "      <td>train_14628</td>\n",
       "      <td>clear primary</td>\n",
       "    </tr>\n",
       "    <tr>\n",
       "      <th>80954</th>\n",
       "      <td>train_27150</td>\n",
       "      <td>primary haze</td>\n",
       "    </tr>\n",
       "    <tr>\n",
       "      <th>80955</th>\n",
       "      <td>train_25524</td>\n",
       "      <td>clear agriculture primary cultivation</td>\n",
       "    </tr>\n",
       "    <tr>\n",
       "      <th>80956</th>\n",
       "      <td>train_35401</td>\n",
       "      <td>clear agriculture primary water</td>\n",
       "    </tr>\n",
       "    <tr>\n",
       "      <th>80957</th>\n",
       "      <td>train_8884</td>\n",
       "      <td>primary cloudy</td>\n",
       "    </tr>\n",
       "  </tbody>\n",
       "</table>\n",
       "<p>80958 rows × 2 columns</p>\n",
       "</div>"
      ],
      "text/plain": [
       "        image_name                                          tags\n",
       "0      train_30370                                 clear primary\n",
       "1      train_11814                                 clear primary\n",
       "2      train_14358  road agriculture primary water partly_cloudy\n",
       "3      train_18588                                 clear primary\n",
       "4      train_36435                           clear primary water\n",
       "...            ...                                           ...\n",
       "80953  train_14628                                 clear primary\n",
       "80954  train_27150                                  primary haze\n",
       "80955  train_25524         clear agriculture primary cultivation\n",
       "80956  train_35401               clear agriculture primary water\n",
       "80957   train_8884                                primary cloudy\n",
       "\n",
       "[80958 rows x 2 columns]"
      ]
     },
     "execution_count": 22,
     "metadata": {},
     "output_type": "execute_result"
    }
   ],
   "source": [
    "pd.read_csv('/kaggle/working/submission.csv')"
   ]
  }
 ],
 "metadata": {
  "kernelspec": {
   "display_name": "Python 3",
   "language": "python",
   "name": "python3"
  },
  "language_info": {
   "codemirror_mode": {
    "name": "ipython",
    "version": 3
   },
   "file_extension": ".py",
   "mimetype": "text/x-python",
   "name": "python",
   "nbconvert_exporter": "python",
   "pygments_lexer": "ipython3",
   "version": "3.10.12"
  },
  "papermill": {
   "default_parameters": {},
   "duration": 2017.457365,
   "end_time": "2023-07-15T13:29:07.862332",
   "environment_variables": {},
   "exception": null,
   "input_path": "__notebook__.ipynb",
   "output_path": "__notebook__.ipynb",
   "parameters": {},
   "start_time": "2023-07-15T12:55:30.404967",
   "version": "2.4.0"
  }
 },
 "nbformat": 4,
 "nbformat_minor": 5
}
